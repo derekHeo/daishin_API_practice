{
 "cells": [
  {
   "cell_type": "code",
   "execution_count": 16,
   "metadata": {},
   "outputs": [
    {
     "name": "stdout",
     "output_type": "stream",
     "text": [
      "        Date     Open     High      Low    Close\n",
      "0   20230626  71700.0  72400.0  71500.0  72400.0\n",
      "1   20230623  72000.0  72200.0  71600.0  71600.0\n",
      "2   20230622  70200.0  71500.0  70100.0  71300.0\n",
      "3   20230621  70700.0  71200.0  70400.0  70500.0\n",
      "4   20230620  70700.0  71400.0  70400.0  71400.0\n",
      "..       ...      ...      ...      ...      ...\n",
      "95  20230206  62800.0  63000.0  61600.0  61600.0\n",
      "96  20230203  63900.0  64000.0  63000.0  63800.0\n",
      "97  20230202  63200.0  63900.0  62600.0  63500.0\n",
      "98  20230201  62600.0  62700.0  61000.0  61800.0\n",
      "99  20230131  63500.0  63700.0  61000.0  61000.0\n",
      "\n",
      "[100 rows x 5 columns]\n"
     ]
    }
   ],
   "source": [
    "from pandas import DataFrame\n",
    "from subDS import subStockChart # 위에 작성한 subStockChart 불러오기\n",
    "\n",
    "if __name__ == \"__main__\":\n",
    "    ### 자료가져오기\n",
    "    code ='A005930' # 삼성전자 종목코드 \n",
    "    numHist =100 # 과거 100일치 데이터 \n",
    "    df=subStockChart(code, numHist)\n",
    "    print(df)"
   ]
  },
  {
   "cell_type": "code",
   "execution_count": 18,
   "metadata": {},
   "outputs": [
    {
     "ename": "ImportError",
     "evalue": "cannot import name 'subCpSvr7254' from 'subDS' (c:\\Users\\hjk41\\Desktop\\finace\\subDS.py)",
     "output_type": "error",
     "traceback": [
      "\u001b[1;31m---------------------------------------------------------------------------\u001b[0m",
      "\u001b[1;31mImportError\u001b[0m                               Traceback (most recent call last)",
      "Cell \u001b[1;32mIn[18], line 2\u001b[0m\n\u001b[0;32m      1\u001b[0m \u001b[39mfrom\u001b[39;00m \u001b[39mpandas\u001b[39;00m \u001b[39mimport\u001b[39;00m DataFrame\n\u001b[1;32m----> 2\u001b[0m \u001b[39mfrom\u001b[39;00m \u001b[39msubDS\u001b[39;00m \u001b[39mimport\u001b[39;00m subCpSvr7254\n\u001b[0;32m      4\u001b[0m \u001b[39mif\u001b[39;00m \u001b[39m__name__\u001b[39m \u001b[39m==\u001b[39m \u001b[39m\"\u001b[39m\u001b[39m__main__\u001b[39m\u001b[39m\"\u001b[39m:\n\u001b[0;32m      5\u001b[0m     code\u001b[39m=\u001b[39m\u001b[39m'\u001b[39m\u001b[39mA005930\u001b[39m\u001b[39m'\u001b[39m        \u001b[39m# 삼성전자 코드 \u001b[39;00m\n",
      "\u001b[1;31mImportError\u001b[0m: cannot import name 'subCpSvr7254' from 'subDS' (c:\\Users\\hjk41\\Desktop\\finace\\subDS.py)"
     ]
    }
   ],
   "source": [
    "from pandas import DataFrame\n",
    "from subDS import subCpSvr7254\n",
    "\n",
    "if __name__ == \"__main__\":\n",
    "    code='A005930'        # 삼성전자 코드 \n",
    "    fromDate = '20150601' # 요청 시작 날짜\n",
    "    toDate = '20151030'   # 요청 마지막 날짜\n",
    "\n",
    "    # ### 자료가져오기\n",
    "    data=subCpSvr7254(code, fromDate, toDate)\n",
    "    print(data)\n",
    "    df=DataFrame(data,  columns=['일자', '개인', '외국인', '기관계', '금융투자', '보험', '투신', '은행', '기타금융', '연기금', '기타법인', '기타외인', '사모펀드', '국가지자체'])\n",
    "    df.to_csv('subCpSvr7254.csv')"
   ]
  }
 ],
 "metadata": {
  "kernelspec": {
   "display_name": "win32",
   "language": "python",
   "name": "python3"
  },
  "language_info": {
   "codemirror_mode": {
    "name": "ipython",
    "version": 3
   },
   "file_extension": ".py",
   "mimetype": "text/x-python",
   "name": "python",
   "nbconvert_exporter": "python",
   "pygments_lexer": "ipython3",
   "version": "3.8.13"
  },
  "orig_nbformat": 4
 },
 "nbformat": 4,
 "nbformat_minor": 2
}
